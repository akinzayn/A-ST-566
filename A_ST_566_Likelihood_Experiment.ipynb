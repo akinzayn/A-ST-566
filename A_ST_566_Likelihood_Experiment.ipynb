{
  "nbformat": 4,
  "nbformat_minor": 0,
  "metadata": {
    "colab": {
      "name": "A ST 566 Likelihood Experiment.ipynb",
      "provenance": [],
      "authorship_tag": "ABX9TyP+czslvnJqQi7GT6WIqUvi",
      "include_colab_link": true
    },
    "kernelspec": {
      "name": "ir",
      "display_name": "R"
    },
    "language_info": {
      "name": "R"
    }
  },
  "cells": [
    {
      "cell_type": "markdown",
      "metadata": {
        "id": "view-in-github",
        "colab_type": "text"
      },
      "source": [
        "<a href=\"https://colab.research.google.com/github/akinzayn/A-ST-566/blob/main/A_ST_566_Likelihood_Experiment.ipynb\" target=\"_parent\"><img src=\"https://colab.research.google.com/assets/colab-badge.svg\" alt=\"Open In Colab\"/></a>"
      ]
    },
    {
      "cell_type": "code",
      "execution_count": 57,
      "metadata": {
        "id": "0TskXdEQv0mz"
      },
      "outputs": [],
      "source": [
        "x = c(3.7, 1.6, 0.7, 5.5, 5.8)\n",
        "\n",
        "likelihood_fn = function(x,theta){\n",
        "  len_x = length(x)\n",
        "  res = ((0.5)^len_x) * ( exp(- sum(abs(x - theta))) )\n",
        "  return(res)\n",
        "}\n",
        "\n",
        "grid_size = 10000\n",
        "theta = 10^seq(-7, 7, length.out = grid_size)\n",
        "\n",
        "df = data.frame( theta = 1:grid_size, likelihood =NA )\n",
        "for(ii in 1:grid_size){\n",
        "  df[ii,] = c(theta[ii],likelihood_fn(x,theta[ii]))\n",
        "}"
      ]
    },
    {
      "cell_type": "code",
      "source": [
        "head(df)"
      ],
      "metadata": {
        "colab": {
          "base_uri": "https://localhost:8080/",
          "height": 286
        },
        "id": "HuPJDIrixlXc",
        "outputId": "1be088f6-a6e9-4399-ba6e-5b9852c7a83f"
      },
      "execution_count": 58,
      "outputs": [
        {
          "output_type": "display_data",
          "data": {
            "text/plain": [
              "  theta        likelihood  \n",
              "1 1.000000e-07 9.584196e-10\n",
              "2 1.003229e-07 9.584196e-10\n",
              "3 1.006469e-07 9.584196e-10\n",
              "4 1.009719e-07 9.584196e-10\n",
              "5 1.012979e-07 9.584196e-10\n",
              "6 1.016250e-07 9.584196e-10"
            ],
            "text/latex": "A data.frame: 6 × 2\n\\begin{tabular}{r|ll}\n  & theta & likelihood\\\\\n  & <dbl> & <dbl>\\\\\n\\hline\n\t1 & 1.000000e-07 & 9.584196e-10\\\\\n\t2 & 1.003229e-07 & 9.584196e-10\\\\\n\t3 & 1.006469e-07 & 9.584196e-10\\\\\n\t4 & 1.009719e-07 & 9.584196e-10\\\\\n\t5 & 1.012979e-07 & 9.584196e-10\\\\\n\t6 & 1.016250e-07 & 9.584196e-10\\\\\n\\end{tabular}\n",
            "text/markdown": "\nA data.frame: 6 × 2\n\n| <!--/--> | theta &lt;dbl&gt; | likelihood &lt;dbl&gt; |\n|---|---|---|\n| 1 | 1.000000e-07 | 9.584196e-10 |\n| 2 | 1.003229e-07 | 9.584196e-10 |\n| 3 | 1.006469e-07 | 9.584196e-10 |\n| 4 | 1.009719e-07 | 9.584196e-10 |\n| 5 | 1.012979e-07 | 9.584196e-10 |\n| 6 | 1.016250e-07 | 9.584196e-10 |\n\n",
            "text/html": [
              "<table class=\"dataframe\">\n",
              "<caption>A data.frame: 6 × 2</caption>\n",
              "<thead>\n",
              "\t<tr><th></th><th scope=col>theta</th><th scope=col>likelihood</th></tr>\n",
              "\t<tr><th></th><th scope=col>&lt;dbl&gt;</th><th scope=col>&lt;dbl&gt;</th></tr>\n",
              "</thead>\n",
              "<tbody>\n",
              "\t<tr><th scope=row>1</th><td>1.000000e-07</td><td>9.584196e-10</td></tr>\n",
              "\t<tr><th scope=row>2</th><td>1.003229e-07</td><td>9.584196e-10</td></tr>\n",
              "\t<tr><th scope=row>3</th><td>1.006469e-07</td><td>9.584196e-10</td></tr>\n",
              "\t<tr><th scope=row>4</th><td>1.009719e-07</td><td>9.584196e-10</td></tr>\n",
              "\t<tr><th scope=row>5</th><td>1.012979e-07</td><td>9.584196e-10</td></tr>\n",
              "\t<tr><th scope=row>6</th><td>1.016250e-07</td><td>9.584196e-10</td></tr>\n",
              "</tbody>\n",
              "</table>\n"
            ]
          },
          "metadata": {}
        }
      ]
    },
    {
      "cell_type": "code",
      "source": [
        "plot(likelihood ~ theta, df, \"l\")"
      ],
      "metadata": {
        "colab": {
          "base_uri": "https://localhost:8080/",
          "height": 437
        },
        "id": "bbRNy1hCx_X1",
        "outputId": "d951faf3-ba0f-49a7-f3c6-be7e2ad2d10a"
      },
      "execution_count": 59,
      "outputs": [
        {
          "output_type": "display_data",
          "data": {
            "image/png": "[encoded data removed]",
            "text/plain": [
              "plot without title"
            ]
          },
          "metadata": {
            "image/png": {
              "width": 420,
              "height": 420
            }
          }
        }
      ]
    },
    {
      "cell_type": "code",
      "source": [
        "median(x)"
      ],
      "metadata": {
        "colab": {
          "base_uri": "https://localhost:8080/",
          "height": 34
        },
        "id": "w8AkMLE8FU8h",
        "outputId": "2b3e68ad-cf0f-43dd-ce17-d04483dba066"
      },
      "execution_count": 67,
      "outputs": [
        {
          "output_type": "display_data",
          "data": {
            "text/plain": [
              "[1] 3.7"
            ],
            "text/latex": "3.7",
            "text/markdown": "3.7",
            "text/html": [
              "3.7"
            ]
          },
          "metadata": {}
        }
      ]
    },
    {
      "cell_type": "code",
      "source": [
        "df[which.max(df$likelihood),]"
      ],
      "metadata": {
        "id": "37-l5UJazXSr",
        "colab": {
          "base_uri": "https://localhost:8080/",
          "height": 129
        },
        "outputId": "afd01178-2df6-4d9e-8afe-dfb7ac719138"
      },
      "execution_count": 60,
      "outputs": [
        {
          "output_type": "display_data",
          "data": {
            "text/plain": [
              "     theta    likelihood  \n",
              "5406 3.696211 3.841972e-06"
            ],
            "text/latex": "A data.frame: 1 × 2\n\\begin{tabular}{r|ll}\n  & theta & likelihood\\\\\n  & <dbl> & <dbl>\\\\\n\\hline\n\t5406 & 3.696211 & 3.841972e-06\\\\\n\\end{tabular}\n",
            "text/markdown": "\nA data.frame: 1 × 2\n\n| <!--/--> | theta &lt;dbl&gt; | likelihood &lt;dbl&gt; |\n|---|---|---|\n| 5406 | 3.696211 | 3.841972e-06 |\n\n",
            "text/html": [
              "<table class=\"dataframe\">\n",
              "<caption>A data.frame: 1 × 2</caption>\n",
              "<thead>\n",
              "\t<tr><th></th><th scope=col>theta</th><th scope=col>likelihood</th></tr>\n",
              "\t<tr><th></th><th scope=col>&lt;dbl&gt;</th><th scope=col>&lt;dbl&gt;</th></tr>\n",
              "</thead>\n",
              "<tbody>\n",
              "\t<tr><th scope=row>5406</th><td>3.696211</td><td>3.841972e-06</td></tr>\n",
              "</tbody>\n",
              "</table>\n"
            ]
          },
          "metadata": {}
        }
      ]
    },
    {
      "cell_type": "code",
      "source": [
        "plot(likelihood ~ theta, df, \"l\", xlim = c(-0,5))"
      ],
      "metadata": {
        "colab": {
          "base_uri": "https://localhost:8080/",
          "height": 437
        },
        "id": "VpKOEhuw6PcX",
        "outputId": "8bb61245-36ac-46ce-89c8-99659ee9b875"
      },
      "execution_count": 65,
      "outputs": [
        {
          "output_type": "display_data",
          "data": {
            "image/png": "[encoded data removed]",
            "text/plain": [
              "plot without title"
            ]
          },
          "metadata": {
            "image/png": {
              "width": 420,
              "height": 420
            }
          }
        }
      ]
    },
    {
      "cell_type": "code",
      "source": [
        "likelihood_fn_optim = function(theta){\n",
        "  x = c(3.7, 1.6, 0.7, 5.5, 5.8)\n",
        "  res = ((0.5)^5) * ( exp(- sum(abs(x - theta))) )\n",
        "  return(-res)\n",
        "}\n",
        "\n"
      ],
      "metadata": {
        "id": "TkJ98m8g4sBx"
      },
      "execution_count": 61,
      "outputs": []
    },
    {
      "cell_type": "code",
      "source": [
        "optim(par = 0, fn = likelihood_fn_optim, method = \"Brent\", lower = -100, upper = 100)"
      ],
      "metadata": {
        "colab": {
          "base_uri": "https://localhost:8080/",
          "height": 219
        },
        "id": "CTd50yot2GyL",
        "outputId": "906af268-f5c5-460d-807a-c5c3656a89e5"
      },
      "execution_count": 55,
      "outputs": [
        {
          "output_type": "display_data",
          "data": {
            "text/plain": [
              "$par\n",
              "[1] 3.7\n",
              "\n",
              "$value\n",
              "[1] -3.856556e-06\n",
              "\n",
              "$counts\n",
              "function gradient \n",
              "      NA       NA \n",
              "\n",
              "$convergence\n",
              "[1] 0\n",
              "\n",
              "$message\n",
              "NULL\n"
            ],
            "text/latex": "\\begin{description}\n\\item[\\$par] 3.70000002666323\n\\item[\\$value] -3.8565562748805e-06\n\\item[\\$counts] \\begin{description*}\n\\item[function] <NA>\n\\item[gradient] <NA>\n\\end{description*}\n\n\\item[\\$convergence] 0\n\\item[\\$message] NULL\n\\end{description}\n",
            "text/markdown": "$par\n:   3.70000002666323\n$value\n:   -3.8565562748805e-06\n$counts\n:   function\n:   &lt;NA&gt;gradient\n:   &lt;NA&gt;\n\n\n$convergence\n:   0\n$message\n:   NULL\n\n\n",
            "text/html": [
              "<dl>\n",
              "\t<dt>$par</dt>\n",
              "\t\t<dd>3.70000002666323</dd>\n",
              "\t<dt>$value</dt>\n",
              "\t\t<dd>-3.8565562748805e-06</dd>\n",
              "\t<dt>$counts</dt>\n",
              "\t\t<dd><style>\n",
              ".dl-inline {width: auto; margin:0; padding: 0}\n",
              ".dl-inline>dt, .dl-inline>dd {float: none; width: auto; display: inline-block}\n",
              ".dl-inline>dt::after {content: \":\\0020\"; padding-right: .5ex}\n",
              ".dl-inline>dt:not(:first-of-type) {padding-left: .5ex}\n",
              "</style><dl class=dl-inline><dt>function</dt><dd>&lt;NA&gt;</dd><dt>gradient</dt><dd>&lt;NA&gt;</dd></dl>\n",
              "</dd>\n",
              "\t<dt>$convergence</dt>\n",
              "\t\t<dd>0</dd>\n",
              "\t<dt>$message</dt>\n",
              "\t\t<dd>NULL</dd>\n",
              "</dl>\n"
            ]
          },
          "metadata": {}
        }
      ]
    }
  ]
}